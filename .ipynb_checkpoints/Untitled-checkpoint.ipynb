{
 "cells": [
  {
   "cell_type": "code",
   "execution_count": 3,
   "metadata": {},
   "outputs": [
    {
     "name": "stdout",
     "output_type": "stream",
     "text": [
      "Cryogenic\n",
      "\"Cryogenic\",\"<div style='margin-top: 3px'><span style='background-color:green; margin-left:1em; margin-right: 4px; display: inline-block; height: 17px'>&nbsp</span>(Kỹ thuật) thuộc siêu hàn, cryôgênic</div>\",\"<unknown>\"\n",
      "\n",
      "aqueous\n",
      "\"aqueous\",\"<div style='margin-top: 8px'><span style='font-family: Arial; text-align: left; font-size: 25px; color: black;border:1px solid lightgray; padding: 1px; background-color: lightgray'>Tính từ</span></div><div style='margin-top: 3px'><span style='background-color:green; margin-left:1em; margin-right: 4px; display: inline-block; height: 17px'>&nbsp</span>[thuộc] nước; như nước; do nước tạo thành</div>\",\"<unknown>\"\n",
      "\n",
      "biomolecular\n",
      "crystallography\n",
      "\"crystallography\",\"<div style='margin-top: 8px'><span style='font-family: Arial; text-align: left; font-size: 25px; color: black;border:1px solid lightgray; padding: 1px; background-color: lightgray'>Danh từ</span></div><div style='margin-top: 3px'><span style='background-color:green; margin-left:1em; margin-right: 4px; display: inline-block; height: 17px'>&nbsp</span>tinh thể học</div><div style='margin-top: 3px'><span style='background-color:green; margin-left:1em; margin-right: 4px; display: inline-block; height: 17px'>&nbsp</span>(Kỹ thuật) tinh thể học, môn tinh thể</div><div style='margin-top: 3px'><span style='background-color:green; margin-left:1em; margin-right: 4px; display: inline-block; height: 17px'>&nbsp</span>tinh thể học</div>\",\"<unknown>\"\n",
      "\n",
      "spectroscopy\n",
      "\"spectroscopy\",\"<div style='margin-top: 8px'><span style='font-family: Arial; text-align: left; font-size: 25px; color: black;border:1px solid lightgray; padding: 1px; background-color: lightgray'>Danh từ</span></div><div style='margin-top: 3px'><span style='background-color:green; margin-left:1em; margin-right: 4px; display: inline-block; height: 17px'>&nbsp</span>(vật lý) phổ học, quang phổ học</div>\",\"<unknown>\"\n",
      "\n",
      "macromolecular\n",
      "crystallization\n",
      "beams\n",
      "\"beams\",\"<div style='margin-top: 8px'><span style='font-family: Arial; text-align: left; font-size: 25px; color: black;border:1px solid lightgray; padding: 1px; background-color: lightgray'>Danh từ</span></div><div style='margin-top: 3px'><span style='background-color:green; margin-left:1em; margin-right: 4px; display: inline-block; height: 17px'>&nbsp</span>xà nhà</div><div style='margin-top: 3px'><span style='background-color:green; margin-left:1em; margin-right: 4px; display: inline-block; height: 17px'>&nbsp</span>đà ngang của tàu</div><div style='margin-top: 3px'><span style='background-color:green; margin-left:1em; margin-right: 4px; display: inline-block; height: 17px'>&nbsp</span>đòn cân</div><div style='margin-top: 3px'><span style='background-color:green; margin-left:1em; margin-right: 4px; display: inline-block; height: 17px'>&nbsp</span>tia sáng, chùm sáng</div><div style='margin-top: 3px'><span style='background-color:green; margin-left:1em; margin-right: 4px; display: inline-block; height: 17px'>&nbsp</span>vẻ mặt rạng rỡ; nụ cười rạng rỡ</div><div style='margin-top: 3px'><span style='background-color:green; margin-left:1em; margin-right: 4px; display: inline-block; height: 17px'>&nbsp</span>tín hiệu radio (rađa) cho tàu bè</div><div style='margin-top: 8px'><span style='font-family: Arial; text-align: left; font-size: 25px; color: black;border:1px solid lightgray; padding: 1px; background-color: lightgray'>Động từ</span></div><div style='margin-top: 3px'><span style='background-color:green; margin-left:1em; margin-right: 4px; display: inline-block; height: 17px'>&nbsp</span>chiếu, rọi (mặt trời…)</div><div style='margin-top: 3px'><span style='background-color:green; margin-left:1em; margin-right: 4px; display: inline-block; height: 17px'>&nbsp</span>(at somebody) tươi cười, rạng rỡ</div><div style='margin-top: 3px'><span style='background-color:green; margin-left:1em; margin-right: 4px; display: inline-block; height: 17px'>&nbsp</span>phát đi (tin tức, chương trình…)</div>\",\"<unknown>\"\n",
      "\n",
      "bacteriorhodopsin\n",
      "diffraction\n",
      "\"diffraction\",\"<div style='margin-top: 8px'><span style='font-family: Arial; text-align: left; font-size: 25px; color: black;border:1px solid lightgray; padding: 1px; background-color: lightgray'>Danh từ</span></div><div style='margin-top: 3px'><span style='background-color:green; margin-left:1em; margin-right: 4px; display: inline-block; height: 17px'>&nbsp</span>sự nhiễu xạ</div>\",\"<unknown>\"\n",
      "\n",
      "soluble\n",
      "\"soluble\",\"<div style='margin-top: 8px'><span style='font-family: Arial; text-align: left; font-size: 25px; color: black;border:1px solid lightgray; padding: 1px; background-color: lightgray'>Tính từ</span></div><div style='margin-top: 3px'><span style='background-color:green; margin-left:1em; margin-right: 4px; display: inline-block; height: 17px'>&nbsp</span>có thể hòa tan, hòa tan được</div><div style='margin-top: 3px'><span style='background-color:green; margin-left:1em; margin-right: 4px; display: inline-block; height: 17px'>&nbsp</span>có thể giải quyết</div>\",\"<unknown>\"\n",
      "\n",
      "pummelled\n",
      "tolerance\n",
      "\"tolerance\",\"<div style='margin-top: 8px'><span style='font-family: Arial; text-align: left; font-size: 25px; color: black;border:1px solid lightgray; padding: 1px; background-color: lightgray'>Danh từ</span></div><div style='margin-top: 3px'><span style='background-color:green; margin-left:1em; margin-right: 4px; display: inline-block; height: 17px'>&nbsp</span>sự khoan dung; sự tha thứ</div><div style='margin-top: 3px'><span style='background-color:green; margin-left:1em; margin-right: 4px; display: inline-block; height: 17px'>&nbsp</span>sự chịu thuốc, sự dung nạp thuốc</div><div style='margin-top: 3px'><span style='background-color:green; margin-left:1em; margin-right: 4px; display: inline-block; height: 17px'>&nbsp</span>dung sai</div>\",\"<unknown>\"\n",
      "\n",
      "inaugurate\n",
      "\"inaugurate\",\"<div style='margin-top: 8px'><span style='font-family: Arial; text-align: left; font-size: 25px; color: black;border:1px solid lightgray; padding: 1px; background-color: lightgray'>Động từ</span></div><div style='margin-top: 3px'><span style='background-color:green; margin-left:1em; margin-right: 4px; display: inline-block; height: 17px'>&nbsp</span>[làm lễ] tấn phong</div><div style='margin-top: 3px'><span style='background-color:green; margin-left:1em; margin-right: 4px; display: inline-block; height: 17px'>&nbsp</span>khai mạc</div><div style='margin-top: 3px'><span style='background-color:green; margin-left:1em; margin-right: 4px; display: inline-block; height: 17px'>&nbsp</span>mở đầu</div>\",\"<unknown>\"\n",
      "\n",
      "throughput\n",
      "\"throughput\",\"<div style='margin-top: 8px'><span style='font-family: Arial; text-align: left; font-size: 25px; color: black;border:1px solid lightgray; padding: 1px; background-color: lightgray'>Danh từ</span></div><div style='margin-top: 3px'><span style='background-color:green; margin-left:1em; margin-right: 4px; display: inline-block; height: 17px'>&nbsp</span>lưu lượng (máy tính)</div>\",\"<unknown>\"\n",
      "\n"
     ]
    }
   ],
   "source": [
    "import sys\n",
    "import requests\n",
    "from lxml import etree\n",
    "from google_images_download import google_images_download   #importing the library\n",
    "\n",
    "response = google_images_download.googleimagesdownload()   #class instantiation\n",
    "\n",
    "topic = 'Animals on the Farm'\n",
    "\n",
    "# words = ['bull', 'calf', 'cat', 'chicken', 'cow', 'donkey', 'duck', 'goat', 'goose', 'hen', 'horse', 'lamb', 'pig', 'rooster', 'sheep', 'turkey']\n",
    "\n",
    "with open('/Users/AnhVu/Study/English/laban_api/daily_vocab/2019-11-13.txt') as f:\n",
    "    content = f.readlines()\n",
    "\n",
    "words = [x.strip() for x in content]\n",
    "\n",
    "# words = ['bull', 'cat']\n",
    "f = open('vocab.csv','w')\n",
    "\n",
    "for word in words:\n",
    "    print(word)\n",
    "    s = '\"' + word + '\",\"'\n",
    "    url = 'https://dict.laban.vn/find?type=1&query={}'.format(word)\n",
    "\n",
    "    res = requests.get(url)\n",
    "\n",
    "    myparser = etree.HTMLParser(encoding=\"utf-8\")\n",
    "    tree = etree.HTML(res.content, parser=myparser)\n",
    "\n",
    "    definition = tree.xpath('/html/body/div[3]/div[2]/div[3]/ul/li[1]/div')\n",
    "    if len(definition) > 0:\n",
    "        for item in definition[0]:\n",
    "            if len(list(item)) > 0:\n",
    "                if 'class' in item.attrib:\n",
    "                    if item.attrib['class'] == 'bg-grey bold font-large m-top20':\n",
    "                        for item2 in item:\n",
    "                            pat = \"<div style='margin-top: 8px'><span style='font-family: Arial; text-align: left; font-size: 25px; color: black;border:1px solid lightgray; padding: 1px; background-color: lightgray'>{}</span></div>\"\n",
    "                            s = s + pat.format(item2.text)\n",
    "            else:\n",
    "                if item.attrib['class'] == 'green bold margin25 m-top15':\n",
    "                    pat = \"<div style='margin-top: 3px'><span style='background-color:green; margin-left:1em; margin-right: 4px; display: inline-block; height: 17px'>&nbsp</span>\"\n",
    "                    s = s + pat + item.text.replace(word, '***') + '</div>'\n",
    "        s = s + '\",\"'\n",
    "        arguments = {\"keywords\": word, \"limit\": 2}   #creating list of arguments\n",
    "    #     paths = response.download(arguments)   #passing the arguments to the function\n",
    "    #     print(paths)           # printing absolute paths of the downloaded images\n",
    "\n",
    "    #     try:\n",
    "    #         s = s + \"<img src='{}'>\".format(paths[0][word][0])\n",
    "    #         s = s + \" <img src='{}'>\".format(paths[0][word][1])\n",
    "    #     except:\n",
    "        s = s + \"<unknown>\"\n",
    "\n",
    "        s = s + '\"\\n'\n",
    "        print(s)\n",
    "        f.write(s)\n",
    "\n",
    "\n",
    "f.close()"
   ]
  },
  {
   "cell_type": "code",
   "execution_count": 112,
   "metadata": {},
   "outputs": [
    {
     "name": "stdout",
     "output_type": "stream",
     "text": [
      "\n",
      "Item no.: 1 --> Item name = duck\n",
      "Evaluating...\n",
      "Starting Download...\n",
      "Image URL: https://www.thespruce.com/thmb/_mdepcJupW43wUwEHikYTfxwE-Q=/1333x1000/smart/filters:no_upscale()/duck-big-bill-59ef8e5068e1a2001072c89e.jpg\n",
      "Completed Image ====> 1.duck-big-bill-59ef8e5068e1a2001072c89e.jpg\n",
      "Image URL: https://a57.foxnews.com/static.foxnews.com/foxnews.com/content/uploads/2019/09/931/524/duck-istock.jpg?ve=1&tl=1\n",
      "Completed Image ====> 2.duck-istock.jpg\n",
      "\n",
      "Errors: 0\n",
      "\n",
      "({'duck': ['/Users/AnhVu/Study/English/laban_api/downloads/duck/1.duck-big-bill-59ef8e5068e1a2001072c89e.jpg', '/Users/AnhVu/Study/English/laban_api/downloads/duck/2.duck-istock.jpg']}, 0)\n"
     ]
    }
   ],
   "source": [
    "from google_images_download import google_images_download   #importing the library\n",
    "\n",
    "response = google_images_download.googleimagesdownload()   #class instantiation\n",
    "\n",
    "arguments = {\"keywords\": 'duck', \"limit\": 2, \"print_urls\":True}   #creating list of arguments\n",
    "paths = response.download(arguments)   #passing the arguments to the function\n",
    "print(paths)   #printing absolute paths of the downloaded images"
   ]
  },
  {
   "cell_type": "code",
   "execution_count": 117,
   "metadata": {},
   "outputs": [
    {
     "ename": "KeyError",
     "evalue": "'bull'",
     "output_type": "error",
     "traceback": [
      "\u001b[0;31m---------------------------------------------------------------------------\u001b[0m",
      "\u001b[0;31mKeyError\u001b[0m                                  Traceback (most recent call last)",
      "\u001b[0;32m<ipython-input-117-2812dff72b31>\u001b[0m in \u001b[0;36m<module>\u001b[0;34m()\u001b[0m\n\u001b[0;32m----> 1\u001b[0;31m \u001b[0mpaths\u001b[0m\u001b[0;34m[\u001b[0m\u001b[0;36m0\u001b[0m\u001b[0;34m]\u001b[0m\u001b[0;34m[\u001b[0m\u001b[0mwords\u001b[0m\u001b[0;34m[\u001b[0m\u001b[0;36m0\u001b[0m\u001b[0;34m]\u001b[0m\u001b[0;34m]\u001b[0m\u001b[0;34m[\u001b[0m\u001b[0;36m0\u001b[0m\u001b[0;34m]\u001b[0m\u001b[0;34m\u001b[0m\u001b[0;34m\u001b[0m\u001b[0m\n\u001b[0m",
      "\u001b[0;31mKeyError\u001b[0m: 'bull'"
     ]
    }
   ],
   "source": [
    "paths[0]['duck'][0]"
   ]
  },
  {
   "cell_type": "code",
   "execution_count": 4,
   "metadata": {},
   "outputs": [],
   "source": [
    "f.close()"
   ]
  },
  {
   "cell_type": "code",
   "execution_count": 6,
   "metadata": {},
   "outputs": [],
   "source": [
    "    file_list = [\"GM4\", \"Skin_NonSkin\", \"abalone\", \"appendicitis\", \"artificial1\",\n",
    "             \"australian\", \"balance\", \"banana\", \"biodeg\", \"blood\", \"breast-cancer\", \"BreastTissue\",\n",
    "             \"bupa\", \"chess-krvk\", \"cleveland\", \"conn-bench-vowel\", \"contraceptive\", \"dermatology\", \"fertility\",\n",
    "             \"haberman\", \"hayes-roth\", \"heart\", \"hepatitis\", \"hill_valley\", \"iris\", \"isolet\",\n",
    "             \"led7digit_new\", \"letter\", \"libras\", \"madelon\", \"magic\", \"mammographic\",\n",
    "             \"marketing\", \"monk-2_new\", \"multiple-features\", \"musk1\", \"musk2\", \"newthyroid\",\n",
    "             \"page-blocks\", \"penbased_new_fix\", \"phoneme\", \"pima\", \"plant_margin\", \"plant_shape\", \"plant_texture\",\n",
    "             \"ring1\", \"satimage\", \"shuttle\", \"sonar\", \"spambase\", \"tae\", \"texture-fix\", \"tic-tac-toe\", \"titanic_new\",\n",
    "             \"twonorm1\", \"vehicle\", \"vertebral_3C\", \"waveform_w_noise\", \"waveform_wo_noise\", \"wdbc\",\n",
    "             \"wine\", \"wine_red\", \"wine_white\", \"yeast\"]"
   ]
  },
  {
   "cell_type": "code",
   "execution_count": 7,
   "metadata": {},
   "outputs": [
    {
     "data": {
      "text/plain": [
       "64"
      ]
     },
     "execution_count": 7,
     "metadata": {},
     "output_type": "execute_result"
    }
   ],
   "source": [
    "len(file_list)"
   ]
  },
  {
   "cell_type": "code",
   "execution_count": 2,
   "metadata": {},
   "outputs": [
    {
     "name": "stdout",
     "output_type": "stream",
     "text": [
      "['diabetes', 'demonstrate']\n"
     ]
    }
   ],
   "source": [
    "with open('/Users/AnhVu/Study/English/laban_api/daily_vocab/2019-11-10.txt') as f:\n",
    "    content = f.readlines()\n",
    "# you may also want to remove whitespace characters like `\\n` at the end of each line\n",
    "content = [x.strip() for x in content] \n",
    "\n",
    "print(content)"
   ]
  },
  {
   "cell_type": "code",
   "execution_count": null,
   "metadata": {},
   "outputs": [],
   "source": []
  }
 ],
 "metadata": {
  "kernelspec": {
   "display_name": "Python 3",
   "language": "python",
   "name": "python3"
  },
  "language_info": {
   "codemirror_mode": {
    "name": "ipython",
    "version": 3
   },
   "file_extension": ".py",
   "mimetype": "text/x-python",
   "name": "python",
   "nbconvert_exporter": "python",
   "pygments_lexer": "ipython3",
   "version": "3.6.7"
  }
 },
 "nbformat": 4,
 "nbformat_minor": 2
}
